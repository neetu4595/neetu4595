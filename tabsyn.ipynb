{
  "nbformat": 4,
  "nbformat_minor": 0,
  "metadata": {
    "colab": {
      "provenance": [],
      "include_colab_link": true
    },
    "kernelspec": {
      "name": "python3",
      "display_name": "Python 3"
    },
    "language_info": {
      "name": "python"
    }
  },
  "cells": [
    {
      "cell_type": "markdown",
      "metadata": {
        "id": "view-in-github",
        "colab_type": "text"
      },
      "source": [
        "<a href=\"https://colab.research.google.com/github/neetu4595/neetu4595/blob/main/tabsyn.ipynb\" target=\"_parent\"><img src=\"https://colab.research.google.com/assets/colab-badge.svg\" alt=\"Open In Colab\"/></a>"
      ]
    },
    {
      "cell_type": "code",
      "execution_count": 2,
      "metadata": {
        "colab": {
          "base_uri": "https://localhost:8080/"
        },
        "id": "uzHtigfo7_wJ",
        "outputId": "cb8b07af-d954-469f-cba2-88ace040f5e1"
      },
      "outputs": [
        {
          "output_type": "stream",
          "name": "stdout",
          "text": [
            "Cloning into 'tabsyn'...\n",
            "remote: Enumerating objects: 218, done.\u001b[K\n",
            "remote: Counting objects: 100% (96/96), done.\u001b[K\n",
            "remote: Compressing objects: 100% (85/85), done.\u001b[K\n",
            "remote: Total 218 (delta 25), reused 33 (delta 10), pack-reused 122\u001b[K\n",
            "Receiving objects: 100% (218/218), 1.48 MiB | 7.30 MiB/s, done.\n",
            "Resolving deltas: 100% (50/50), done.\n"
          ]
        }
      ],
      "source": [
        "!git clone https://github.com/amazon-science/tabsyn.git"
      ]
    },
    {
      "cell_type": "code",
      "source": [
        "!ls"
      ],
      "metadata": {
        "colab": {
          "base_uri": "https://localhost:8080/"
        },
        "id": "AZmSRyWc-Gm9",
        "outputId": "d6efcfa7-be8c-466e-e1e2-679c253c9e30"
      },
      "execution_count": 3,
      "outputs": [
        {
          "output_type": "stream",
          "name": "stdout",
          "text": [
            "sample_data  tabsyn\n"
          ]
        }
      ]
    },
    {
      "cell_type": "code",
      "source": [
        "cd /content/tabsyn"
      ],
      "metadata": {
        "colab": {
          "base_uri": "https://localhost:8080/"
        },
        "id": "jQf8stNt-RHm",
        "outputId": "5e6db089-8e22-4431-e033-62155b1a3a48"
      },
      "execution_count": 4,
      "outputs": [
        {
          "output_type": "stream",
          "name": "stdout",
          "text": [
            "/content/tabsyn\n"
          ]
        }
      ]
    },
    {
      "cell_type": "code",
      "source": [
        "!ls"
      ],
      "metadata": {
        "colab": {
          "base_uri": "https://localhost:8080/"
        },
        "id": "IYnfv8bh-W7w",
        "outputId": "99072a1d-8b31-49cd-b430-0dc387f9cff2"
      },
      "execution_count": 5,
      "outputs": [
        {
          "output_type": "stream",
          "name": "stdout",
          "text": [
            "baselines\t    download_dataset.py  main.py\t     requirements.txt  utils_train.py\n",
            "CODE_OF_CONDUCT.md  eval\t\t NOTICE\t\t     src\n",
            "CONTRIBUTING.md     images\t\t process_dataset.py  tabsyn\n",
            "data\t\t    LICENSE\t\t README.md\t     utils.py\n"
          ]
        }
      ]
    },
    {
      "cell_type": "code",
      "source": [
        "import torch\n",
        "print(torch.cuda.is_available())"
      ],
      "metadata": {
        "colab": {
          "base_uri": "https://localhost:8080/"
        },
        "id": "5EdMgkoP-YM4",
        "outputId": "d1927851-d385-4701-d599-48cc9b57cf10"
      },
      "execution_count": 6,
      "outputs": [
        {
          "output_type": "stream",
          "name": "stdout",
          "text": [
            "False\n"
          ]
        }
      ]
    },
    {
      "cell_type": "code",
      "source": [
        "!python download_dataset.py"
      ],
      "metadata": {
        "colab": {
          "base_uri": "https://localhost:8080/"
        },
        "id": "rt-1CfSm-c9V",
        "outputId": "9eb76d36-15bf-45ae-ec28-83bedd57aaec"
      },
      "execution_count": 7,
      "outputs": [
        {
          "output_type": "stream",
          "name": "stdout",
          "text": [
            "Start processing dataset adult from UCI.\n",
            "Finish downloading dataset from https://archive.ics.uci.edu/static/public/2/adult.zip, data has been saved to data/adult.\n",
            "Finish unzipping adult.\n",
            "Start processing dataset default from UCI.\n",
            "Finish downloading dataset from https://archive.ics.uci.edu/static/public/350/default+of+credit+card+clients.zip, data has been saved to data/default.\n",
            "Finish unzipping default.\n",
            "Start processing dataset magic from UCI.\n",
            "Finish downloading dataset from https://archive.ics.uci.edu/static/public/159/magic+gamma+telescope.zip, data has been saved to data/magic.\n",
            "Finish unzipping magic.\n",
            "Start processing dataset shoppers from UCI.\n",
            "Finish downloading dataset from https://archive.ics.uci.edu/static/public/468/online+shoppers+purchasing+intention+dataset.zip, data has been saved to data/shoppers.\n",
            "Finish unzipping shoppers.\n",
            "Start processing dataset beijing from UCI.\n",
            "Finish downloading dataset from https://archive.ics.uci.edu/static/public/381/beijing+pm2+5+data.zip, data has been saved to data/beijing.\n",
            "Finish unzipping beijing.\n",
            "Start processing dataset news from UCI.\n",
            "Finish downloading dataset from https://archive.ics.uci.edu/static/public/332/online+news+popularity.zip, data has been saved to data/news.\n",
            "Finish unzipping news.\n"
          ]
        }
      ]
    },
    {
      "cell_type": "code",
      "source": [
        "!python process_dataset.py"
      ],
      "metadata": {
        "colab": {
          "base_uri": "https://localhost:8080/"
        },
        "id": "WSFoL-3d_Ngx",
        "outputId": "fc05ec1e-a43d-4c9d-c82a-5859d066b145"
      },
      "execution_count": 23,
      "outputs": [
        {
          "output_type": "stream",
          "name": "stdout",
          "text": [
            "adult (32561, 15) (16281, 15) (32561, 15)\n",
            "Numerical (32561, 6)\n",
            "Categorical (32561, 8)\n",
            "Processing and Saving adult Successfully!\n",
            "adult\n",
            "Total 48842\n",
            "Train 32561\n",
            "Test 16281\n",
            "Num 6\n",
            "Cat 9\n",
            "default (27000, 24) (3000, 24) (30000, 24)\n",
            "Numerical (27000, 14)\n",
            "Categorical (27000, 9)\n",
            "Processing and Saving default Successfully!\n",
            "default\n",
            "Total 30000\n",
            "Train 27000\n",
            "Test 3000\n",
            "Num 14\n",
            "Cat 10\n",
            "shoppers (11097, 18) (1233, 18) (12330, 18)\n",
            "Numerical (11097, 10)\n",
            "Categorical (11097, 7)\n",
            "Processing and Saving shoppers Successfully!\n",
            "shoppers\n",
            "Total 12330\n",
            "Train 11097\n",
            "Test 1233\n",
            "Num 10\n",
            "Cat 8\n",
            "magic (17117, 11) (1902, 11) (19019, 11)\n",
            "Numerical (17117, 10)\n",
            "Categorical (17117, 0)\n",
            "Processing and Saving magic Successfully!\n",
            "magic\n",
            "Total 19019\n",
            "Train 17117\n",
            "Test 1902\n",
            "Num 10\n",
            "Cat 1\n",
            "beijing (37581, 12) (4176, 12) (41757, 12)\n",
            "Numerical (37581, 6)\n",
            "Categorical (37581, 5)\n",
            "Processing and Saving beijing Successfully!\n",
            "beijing\n",
            "Total 41757\n",
            "Train 37581\n",
            "Test 4176\n",
            "Num 7\n",
            "Cat 5\n",
            "news (35679, 48) (3965, 48) (39644, 48)\n",
            "Numerical (35679, 45)\n",
            "Categorical (35679, 2)\n",
            "Processing and Saving news Successfully!\n",
            "news\n",
            "Total 39644\n",
            "Train 35679\n",
            "Test 3965\n",
            "Num 46\n",
            "Cat 2\n"
          ]
        }
      ]
    },
    {
      "cell_type": "code",
      "source": [
        "!pip install datasets"
      ],
      "metadata": {
        "id": "swlIkX_BALRb",
        "colab": {
          "base_uri": "https://localhost:8080/"
        },
        "outputId": "6000ee89-7b00-4ec1-ba6e-c630c62eed5d"
      },
      "execution_count": 24,
      "outputs": [
        {
          "output_type": "stream",
          "name": "stdout",
          "text": [
            "Requirement already satisfied: datasets in /usr/local/lib/python3.10/dist-packages (2.17.1)\n",
            "Requirement already satisfied: filelock in /usr/local/lib/python3.10/dist-packages (from datasets) (3.13.1)\n",
            "Requirement already satisfied: numpy>=1.17 in /usr/local/lib/python3.10/dist-packages (from datasets) (1.25.2)\n",
            "Requirement already satisfied: pyarrow>=12.0.0 in /usr/local/lib/python3.10/dist-packages (from datasets) (14.0.2)\n",
            "Requirement already satisfied: pyarrow-hotfix in /usr/local/lib/python3.10/dist-packages (from datasets) (0.6)\n",
            "Requirement already satisfied: dill<0.3.9,>=0.3.0 in /usr/local/lib/python3.10/dist-packages (from datasets) (0.3.8)\n",
            "Requirement already satisfied: pandas in /usr/local/lib/python3.10/dist-packages (from datasets) (1.5.3)\n",
            "Requirement already satisfied: requests>=2.19.0 in /usr/local/lib/python3.10/dist-packages (from datasets) (2.31.0)\n",
            "Requirement already satisfied: tqdm>=4.62.1 in /usr/local/lib/python3.10/dist-packages (from datasets) (4.66.2)\n",
            "Requirement already satisfied: xxhash in /usr/local/lib/python3.10/dist-packages (from datasets) (3.4.1)\n",
            "Requirement already satisfied: multiprocess in /usr/local/lib/python3.10/dist-packages (from datasets) (0.70.16)\n",
            "Requirement already satisfied: fsspec[http]<=2023.10.0,>=2023.1.0 in /usr/local/lib/python3.10/dist-packages (from datasets) (2023.6.0)\n",
            "Requirement already satisfied: aiohttp in /usr/local/lib/python3.10/dist-packages (from datasets) (3.9.3)\n",
            "Requirement already satisfied: huggingface-hub>=0.19.4 in /usr/local/lib/python3.10/dist-packages (from datasets) (0.20.3)\n",
            "Requirement already satisfied: packaging in /usr/local/lib/python3.10/dist-packages (from datasets) (23.2)\n",
            "Requirement already satisfied: pyyaml>=5.1 in /usr/local/lib/python3.10/dist-packages (from datasets) (6.0.1)\n",
            "Requirement already satisfied: aiosignal>=1.1.2 in /usr/local/lib/python3.10/dist-packages (from aiohttp->datasets) (1.3.1)\n",
            "Requirement already satisfied: attrs>=17.3.0 in /usr/local/lib/python3.10/dist-packages (from aiohttp->datasets) (23.2.0)\n",
            "Requirement already satisfied: frozenlist>=1.1.1 in /usr/local/lib/python3.10/dist-packages (from aiohttp->datasets) (1.4.1)\n",
            "Requirement already satisfied: multidict<7.0,>=4.5 in /usr/local/lib/python3.10/dist-packages (from aiohttp->datasets) (6.0.5)\n",
            "Requirement already satisfied: yarl<2.0,>=1.0 in /usr/local/lib/python3.10/dist-packages (from aiohttp->datasets) (1.9.4)\n",
            "Requirement already satisfied: async-timeout<5.0,>=4.0 in /usr/local/lib/python3.10/dist-packages (from aiohttp->datasets) (4.0.3)\n",
            "Requirement already satisfied: typing-extensions>=3.7.4.3 in /usr/local/lib/python3.10/dist-packages (from huggingface-hub>=0.19.4->datasets) (4.10.0)\n",
            "Requirement already satisfied: charset-normalizer<4,>=2 in /usr/local/lib/python3.10/dist-packages (from requests>=2.19.0->datasets) (3.3.2)\n",
            "Requirement already satisfied: idna<4,>=2.5 in /usr/local/lib/python3.10/dist-packages (from requests>=2.19.0->datasets) (3.6)\n",
            "Requirement already satisfied: urllib3<3,>=1.21.1 in /usr/local/lib/python3.10/dist-packages (from requests>=2.19.0->datasets) (2.0.7)\n",
            "Requirement already satisfied: certifi>=2017.4.17 in /usr/local/lib/python3.10/dist-packages (from requests>=2.19.0->datasets) (2024.2.2)\n",
            "Requirement already satisfied: python-dateutil>=2.8.1 in /usr/local/lib/python3.10/dist-packages (from pandas->datasets) (2.8.2)\n",
            "Requirement already satisfied: pytz>=2020.1 in /usr/local/lib/python3.10/dist-packages (from pandas->datasets) (2023.4)\n",
            "Requirement already satisfied: six>=1.5 in /usr/local/lib/python3.10/dist-packages (from python-dateutil>=2.8.1->pandas->datasets) (1.16.0)\n"
          ]
        }
      ]
    },
    {
      "cell_type": "code",
      "source": [
        "!pip install peft"
      ],
      "metadata": {
        "id": "DTcerAJ_AbGp",
        "colab": {
          "base_uri": "https://localhost:8080/"
        },
        "outputId": "431dad9f-920b-4e47-9911-2d882a3ac68e"
      },
      "execution_count": 10,
      "outputs": [
        {
          "output_type": "stream",
          "name": "stdout",
          "text": [
            "Collecting peft\n",
            "  Downloading peft-0.9.0-py3-none-any.whl (190 kB)\n",
            "\u001b[?25l     \u001b[90m━━━━━━━━━━━━━━━━━━━━━━━━━━━━━━━━━━━━━━━━\u001b[0m \u001b[32m0.0/190.9 kB\u001b[0m \u001b[31m?\u001b[0m eta \u001b[36m-:--:--\u001b[0m\r\u001b[2K     \u001b[91m━━━━━━━━━━━━━━━━━━━━━━━\u001b[0m\u001b[91m╸\u001b[0m\u001b[90m━━━━━━━━━━━━━━━━\u001b[0m \u001b[32m112.6/190.9 kB\u001b[0m \u001b[31m3.2 MB/s\u001b[0m eta \u001b[36m0:00:01\u001b[0m\r\u001b[2K     \u001b[90m━━━━━━━━━━━━━━━━━━━━━━━━━━━━━━━━━━━━━━━━\u001b[0m \u001b[32m190.9/190.9 kB\u001b[0m \u001b[31m3.7 MB/s\u001b[0m eta \u001b[36m0:00:00\u001b[0m\n",
            "\u001b[?25hRequirement already satisfied: numpy>=1.17 in /usr/local/lib/python3.10/dist-packages (from peft) (1.25.2)\n",
            "Requirement already satisfied: packaging>=20.0 in /usr/local/lib/python3.10/dist-packages (from peft) (23.2)\n",
            "Requirement already satisfied: psutil in /usr/local/lib/python3.10/dist-packages (from peft) (5.9.5)\n",
            "Requirement already satisfied: pyyaml in /usr/local/lib/python3.10/dist-packages (from peft) (6.0.1)\n",
            "Requirement already satisfied: torch>=1.13.0 in /usr/local/lib/python3.10/dist-packages (from peft) (2.1.0+cu121)\n",
            "Requirement already satisfied: transformers in /usr/local/lib/python3.10/dist-packages (from peft) (4.38.1)\n",
            "Requirement already satisfied: tqdm in /usr/local/lib/python3.10/dist-packages (from peft) (4.66.2)\n",
            "Collecting accelerate>=0.21.0 (from peft)\n",
            "  Downloading accelerate-0.27.2-py3-none-any.whl (279 kB)\n",
            "\u001b[2K     \u001b[90m━━━━━━━━━━━━━━━━━━━━━━━━━━━━━━━━━━━━━━━━\u001b[0m \u001b[32m280.0/280.0 kB\u001b[0m \u001b[31m11.9 MB/s\u001b[0m eta \u001b[36m0:00:00\u001b[0m\n",
            "\u001b[?25hRequirement already satisfied: safetensors in /usr/local/lib/python3.10/dist-packages (from peft) (0.4.2)\n",
            "Requirement already satisfied: huggingface-hub>=0.17.0 in /usr/local/lib/python3.10/dist-packages (from peft) (0.20.3)\n",
            "Requirement already satisfied: filelock in /usr/local/lib/python3.10/dist-packages (from huggingface-hub>=0.17.0->peft) (3.13.1)\n",
            "Requirement already satisfied: fsspec>=2023.5.0 in /usr/local/lib/python3.10/dist-packages (from huggingface-hub>=0.17.0->peft) (2023.6.0)\n",
            "Requirement already satisfied: requests in /usr/local/lib/python3.10/dist-packages (from huggingface-hub>=0.17.0->peft) (2.31.0)\n",
            "Requirement already satisfied: typing-extensions>=3.7.4.3 in /usr/local/lib/python3.10/dist-packages (from huggingface-hub>=0.17.0->peft) (4.10.0)\n",
            "Requirement already satisfied: sympy in /usr/local/lib/python3.10/dist-packages (from torch>=1.13.0->peft) (1.12)\n",
            "Requirement already satisfied: networkx in /usr/local/lib/python3.10/dist-packages (from torch>=1.13.0->peft) (3.2.1)\n",
            "Requirement already satisfied: jinja2 in /usr/local/lib/python3.10/dist-packages (from torch>=1.13.0->peft) (3.1.3)\n",
            "Requirement already satisfied: triton==2.1.0 in /usr/local/lib/python3.10/dist-packages (from torch>=1.13.0->peft) (2.1.0)\n",
            "Requirement already satisfied: regex!=2019.12.17 in /usr/local/lib/python3.10/dist-packages (from transformers->peft) (2023.12.25)\n",
            "Requirement already satisfied: tokenizers<0.19,>=0.14 in /usr/local/lib/python3.10/dist-packages (from transformers->peft) (0.15.2)\n",
            "Requirement already satisfied: MarkupSafe>=2.0 in /usr/local/lib/python3.10/dist-packages (from jinja2->torch>=1.13.0->peft) (2.1.5)\n",
            "Requirement already satisfied: charset-normalizer<4,>=2 in /usr/local/lib/python3.10/dist-packages (from requests->huggingface-hub>=0.17.0->peft) (3.3.2)\n",
            "Requirement already satisfied: idna<4,>=2.5 in /usr/local/lib/python3.10/dist-packages (from requests->huggingface-hub>=0.17.0->peft) (3.6)\n",
            "Requirement already satisfied: urllib3<3,>=1.21.1 in /usr/local/lib/python3.10/dist-packages (from requests->huggingface-hub>=0.17.0->peft) (2.0.7)\n",
            "Requirement already satisfied: certifi>=2017.4.17 in /usr/local/lib/python3.10/dist-packages (from requests->huggingface-hub>=0.17.0->peft) (2024.2.2)\n",
            "Requirement already satisfied: mpmath>=0.19 in /usr/local/lib/python3.10/dist-packages (from sympy->torch>=1.13.0->peft) (1.3.0)\n",
            "Installing collected packages: accelerate, peft\n",
            "Successfully installed accelerate-0.27.2 peft-0.9.0\n"
          ]
        }
      ]
    },
    {
      "cell_type": "code",
      "source": [
        "!pip install -r requirements.txt"
      ],
      "metadata": {
        "id": "ECzu8h0VAky3",
        "colab": {
          "base_uri": "https://localhost:8080/"
        },
        "outputId": "a2486916-c3cd-4909-b2b6-e94e147a8be9"
      },
      "execution_count": 11,
      "outputs": [
        {
          "output_type": "stream",
          "name": "stdout",
          "text": [
            "Requirement already satisfied: numpy in /usr/local/lib/python3.10/dist-packages (from -r requirements.txt (line 1)) (1.25.2)\n",
            "Requirement already satisfied: pandas in /usr/local/lib/python3.10/dist-packages (from -r requirements.txt (line 2)) (1.5.3)\n",
            "Requirement already satisfied: scikit-learn in /usr/local/lib/python3.10/dist-packages (from -r requirements.txt (line 3)) (1.2.2)\n",
            "Requirement already satisfied: scipy in /usr/local/lib/python3.10/dist-packages (from -r requirements.txt (line 4)) (1.11.4)\n",
            "Collecting icecream (from -r requirements.txt (line 5))\n",
            "  Downloading icecream-2.1.3-py2.py3-none-any.whl (8.4 kB)\n",
            "Requirement already satisfied: xlrd in /usr/local/lib/python3.10/dist-packages (from -r requirements.txt (line 6)) (2.0.1)\n",
            "Collecting tomli-w (from -r requirements.txt (line 7))\n",
            "  Downloading tomli_w-1.0.0-py3-none-any.whl (6.0 kB)\n",
            "Collecting zero (from -r requirements.txt (line 8))\n",
            "  Downloading zero-0.9.2-py3-none-any.whl (258 kB)\n",
            "\u001b[2K     \u001b[90m━━━━━━━━━━━━━━━━━━━━━━━━━━━━━━━━━━━━━━━━\u001b[0m \u001b[32m258.1/258.1 kB\u001b[0m \u001b[31m8.0 MB/s\u001b[0m eta \u001b[36m0:00:00\u001b[0m\n",
            "\u001b[?25hCollecting category_encoders (from -r requirements.txt (line 9))\n",
            "  Downloading category_encoders-2.6.3-py2.py3-none-any.whl (81 kB)\n",
            "\u001b[2K     \u001b[90m━━━━━━━━━━━━━━━━━━━━━━━━━━━━━━━━━━━━━━━━\u001b[0m \u001b[32m81.9/81.9 kB\u001b[0m \u001b[31m10.8 MB/s\u001b[0m eta \u001b[36m0:00:00\u001b[0m\n",
            "\u001b[?25hRequirement already satisfied: imbalanced-learn in /usr/local/lib/python3.10/dist-packages (from -r requirements.txt (line 10)) (0.10.1)\n",
            "Requirement already satisfied: kaggle in /usr/local/lib/python3.10/dist-packages (from -r requirements.txt (line 11)) (1.5.16)\n",
            "Requirement already satisfied: transformers in /usr/local/lib/python3.10/dist-packages (from -r requirements.txt (line 12)) (4.38.1)\n",
            "Requirement already satisfied: datasets in /usr/local/lib/python3.10/dist-packages (from -r requirements.txt (line 13)) (2.17.1)\n",
            "Requirement already satisfied: peft in /usr/local/lib/python3.10/dist-packages (from -r requirements.txt (line 14)) (0.9.0)\n",
            "Collecting ml_collections (from -r requirements.txt (line 15))\n",
            "  Downloading ml_collections-0.1.1.tar.gz (77 kB)\n",
            "\u001b[2K     \u001b[90m━━━━━━━━━━━━━━━━━━━━━━━━━━━━━━━━━━━━━━━━\u001b[0m \u001b[32m77.9/77.9 kB\u001b[0m \u001b[31m10.3 MB/s\u001b[0m eta \u001b[36m0:00:00\u001b[0m\n",
            "\u001b[?25h  Preparing metadata (setup.py) ... \u001b[?25l\u001b[?25hdone\n",
            "Collecting sdmetrics (from -r requirements.txt (line 16))\n",
            "  Downloading sdmetrics-0.13.0-py2.py3-none-any.whl (170 kB)\n",
            "\u001b[2K     \u001b[90m━━━━━━━━━━━━━━━━━━━━━━━━━━━━━━━━━━━━━━━━\u001b[0m \u001b[32m170.7/170.7 kB\u001b[0m \u001b[31m12.3 MB/s\u001b[0m eta \u001b[36m0:00:00\u001b[0m\n",
            "\u001b[?25hCollecting prdc (from -r requirements.txt (line 17))\n",
            "  Downloading prdc-0.2-py3-none-any.whl (6.0 kB)\n",
            "Collecting rdt (from -r requirements.txt (line 18))\n",
            "  Downloading rdt-1.9.2-py2.py3-none-any.whl (76 kB)\n",
            "\u001b[2K     \u001b[90m━━━━━━━━━━━━━━━━━━━━━━━━━━━━━━━━━━━━━━━━\u001b[0m \u001b[32m76.2/76.2 kB\u001b[0m \u001b[31m10.3 MB/s\u001b[0m eta \u001b[36m0:00:00\u001b[0m\n",
            "\u001b[?25hRequirement already satisfied: openpyxl in /usr/local/lib/python3.10/dist-packages (from -r requirements.txt (line 19)) (3.1.2)\n",
            "Requirement already satisfied: xgboost in /usr/local/lib/python3.10/dist-packages (from -r requirements.txt (line 20)) (2.0.3)\n",
            "Requirement already satisfied: python-dateutil>=2.8.1 in /usr/local/lib/python3.10/dist-packages (from pandas->-r requirements.txt (line 2)) (2.8.2)\n",
            "Requirement already satisfied: pytz>=2020.1 in /usr/local/lib/python3.10/dist-packages (from pandas->-r requirements.txt (line 2)) (2023.4)\n",
            "Requirement already satisfied: joblib>=1.1.1 in /usr/local/lib/python3.10/dist-packages (from scikit-learn->-r requirements.txt (line 3)) (1.3.2)\n",
            "Requirement already satisfied: threadpoolctl>=2.0.0 in /usr/local/lib/python3.10/dist-packages (from scikit-learn->-r requirements.txt (line 3)) (3.3.0)\n",
            "Collecting colorama>=0.3.9 (from icecream->-r requirements.txt (line 5))\n",
            "  Downloading colorama-0.4.6-py2.py3-none-any.whl (25 kB)\n",
            "Requirement already satisfied: pygments>=2.2.0 in /usr/local/lib/python3.10/dist-packages (from icecream->-r requirements.txt (line 5)) (2.16.1)\n",
            "Collecting executing>=0.3.1 (from icecream->-r requirements.txt (line 5))\n",
            "  Downloading executing-2.0.1-py2.py3-none-any.whl (24 kB)\n",
            "Collecting asttokens>=2.0.1 (from icecream->-r requirements.txt (line 5))\n",
            "  Downloading asttokens-2.4.1-py2.py3-none-any.whl (27 kB)\n",
            "Requirement already satisfied: matplotlib>=3.0.3 in /usr/local/lib/python3.10/dist-packages (from zero->-r requirements.txt (line 8)) (3.7.1)\n",
            "Requirement already satisfied: requests>=2.19.1 in /usr/local/lib/python3.10/dist-packages (from zero->-r requirements.txt (line 8)) (2.31.0)\n",
            "Requirement already satisfied: progressbar2>=3.38.0 in /usr/local/lib/python3.10/dist-packages (from zero->-r requirements.txt (line 8)) (4.2.0)\n",
            "Requirement already satisfied: tabulate>=0.8.2 in /usr/local/lib/python3.10/dist-packages (from zero->-r requirements.txt (line 8)) (0.9.0)\n",
            "Collecting setuptools-scm>=3.1.0 (from zero->-r requirements.txt (line 8))\n",
            "  Downloading setuptools_scm-8.0.4-py3-none-any.whl (42 kB)\n",
            "\u001b[2K     \u001b[90m━━━━━━━━━━━━━━━━━━━━━━━━━━━━━━━━━━━━━━━━\u001b[0m \u001b[32m42.1/42.1 kB\u001b[0m \u001b[31m5.2 MB/s\u001b[0m eta \u001b[36m0:00:00\u001b[0m\n",
            "\u001b[?25hCollecting ply>=3.11 (from zero->-r requirements.txt (line 8))\n",
            "  Downloading ply-3.11-py2.py3-none-any.whl (49 kB)\n",
            "\u001b[2K     \u001b[90m━━━━━━━━━━━━━━━━━━━━━━━━━━━━━━━━━━━━━━━━\u001b[0m \u001b[32m49.6/49.6 kB\u001b[0m \u001b[31m6.9 MB/s\u001b[0m eta \u001b[36m0:00:00\u001b[0m\n",
            "\u001b[?25hCollecting Click==7.0 (from zero->-r requirements.txt (line 8))\n",
            "  Downloading Click-7.0-py2.py3-none-any.whl (81 kB)\n",
            "\u001b[2K     \u001b[90m━━━━━━━━━━━━━━━━━━━━━━━━━━━━━━━━━━━━━━━━\u001b[0m \u001b[32m81.3/81.3 kB\u001b[0m \u001b[31m12.1 MB/s\u001b[0m eta \u001b[36m0:00:00\u001b[0m\n",
            "\u001b[?25hCollecting quantiphy>=2.5.0 (from zero->-r requirements.txt (line 8))\n",
            "  Downloading quantiphy-2.19-py3-none-any.whl (41 kB)\n",
            "\u001b[2K     \u001b[90m━━━━━━━━━━━━━━━━━━━━━━━━━━━━━━━━━━━━━━━━\u001b[0m \u001b[32m41.2/41.2 kB\u001b[0m \u001b[31m5.5 MB/s\u001b[0m eta \u001b[36m0:00:00\u001b[0m\n",
            "\u001b[?25hRequirement already satisfied: PyYAML>=3.13 in /usr/local/lib/python3.10/dist-packages (from zero->-r requirements.txt (line 8)) (6.0.1)\n",
            "Requirement already satisfied: graphviz>=0.9 in /usr/local/lib/python3.10/dist-packages (from zero->-r requirements.txt (line 8)) (0.20.1)\n",
            "Requirement already satisfied: statsmodels>=0.9.0 in /usr/local/lib/python3.10/dist-packages (from category_encoders->-r requirements.txt (line 9)) (0.14.1)\n",
            "Requirement already satisfied: patsy>=0.5.1 in /usr/local/lib/python3.10/dist-packages (from category_encoders->-r requirements.txt (line 9)) (0.5.6)\n",
            "Requirement already satisfied: six>=1.10 in /usr/local/lib/python3.10/dist-packages (from kaggle->-r requirements.txt (line 11)) (1.16.0)\n",
            "Requirement already satisfied: certifi in /usr/local/lib/python3.10/dist-packages (from kaggle->-r requirements.txt (line 11)) (2024.2.2)\n",
            "Requirement already satisfied: tqdm in /usr/local/lib/python3.10/dist-packages (from kaggle->-r requirements.txt (line 11)) (4.66.2)\n",
            "Requirement already satisfied: python-slugify in /usr/local/lib/python3.10/dist-packages (from kaggle->-r requirements.txt (line 11)) (8.0.4)\n",
            "Requirement already satisfied: urllib3 in /usr/local/lib/python3.10/dist-packages (from kaggle->-r requirements.txt (line 11)) (2.0.7)\n",
            "Requirement already satisfied: bleach in /usr/local/lib/python3.10/dist-packages (from kaggle->-r requirements.txt (line 11)) (6.1.0)\n",
            "Requirement already satisfied: filelock in /usr/local/lib/python3.10/dist-packages (from transformers->-r requirements.txt (line 12)) (3.13.1)\n",
            "Requirement already satisfied: huggingface-hub<1.0,>=0.19.3 in /usr/local/lib/python3.10/dist-packages (from transformers->-r requirements.txt (line 12)) (0.20.3)\n",
            "Requirement already satisfied: packaging>=20.0 in /usr/local/lib/python3.10/dist-packages (from transformers->-r requirements.txt (line 12)) (23.2)\n",
            "Requirement already satisfied: regex!=2019.12.17 in /usr/local/lib/python3.10/dist-packages (from transformers->-r requirements.txt (line 12)) (2023.12.25)\n",
            "Requirement already satisfied: tokenizers<0.19,>=0.14 in /usr/local/lib/python3.10/dist-packages (from transformers->-r requirements.txt (line 12)) (0.15.2)\n",
            "Requirement already satisfied: safetensors>=0.4.1 in /usr/local/lib/python3.10/dist-packages (from transformers->-r requirements.txt (line 12)) (0.4.2)\n",
            "Requirement already satisfied: pyarrow>=12.0.0 in /usr/local/lib/python3.10/dist-packages (from datasets->-r requirements.txt (line 13)) (14.0.2)\n",
            "Requirement already satisfied: pyarrow-hotfix in /usr/local/lib/python3.10/dist-packages (from datasets->-r requirements.txt (line 13)) (0.6)\n",
            "Requirement already satisfied: dill<0.3.9,>=0.3.0 in /usr/local/lib/python3.10/dist-packages (from datasets->-r requirements.txt (line 13)) (0.3.8)\n",
            "Requirement already satisfied: xxhash in /usr/local/lib/python3.10/dist-packages (from datasets->-r requirements.txt (line 13)) (3.4.1)\n",
            "Requirement already satisfied: multiprocess in /usr/local/lib/python3.10/dist-packages (from datasets->-r requirements.txt (line 13)) (0.70.16)\n",
            "Requirement already satisfied: fsspec[http]<=2023.10.0,>=2023.1.0 in /usr/local/lib/python3.10/dist-packages (from datasets->-r requirements.txt (line 13)) (2023.6.0)\n",
            "Requirement already satisfied: aiohttp in /usr/local/lib/python3.10/dist-packages (from datasets->-r requirements.txt (line 13)) (3.9.3)\n",
            "Requirement already satisfied: psutil in /usr/local/lib/python3.10/dist-packages (from peft->-r requirements.txt (line 14)) (5.9.5)\n",
            "Requirement already satisfied: torch>=1.13.0 in /usr/local/lib/python3.10/dist-packages (from peft->-r requirements.txt (line 14)) (2.1.0+cu121)\n",
            "Requirement already satisfied: accelerate>=0.21.0 in /usr/local/lib/python3.10/dist-packages (from peft->-r requirements.txt (line 14)) (0.27.2)\n",
            "Requirement already satisfied: absl-py in /usr/local/lib/python3.10/dist-packages (from ml_collections->-r requirements.txt (line 15)) (1.4.0)\n",
            "Requirement already satisfied: contextlib2 in /usr/local/lib/python3.10/dist-packages (from ml_collections->-r requirements.txt (line 15)) (21.6.0)\n",
            "Collecting copulas<0.10,>=0.9.0 (from sdmetrics->-r requirements.txt (line 16))\n",
            "  Downloading copulas-0.9.2-py2.py3-none-any.whl (54 kB)\n",
            "\u001b[2K     \u001b[90m━━━━━━━━━━━━━━━━━━━━━━━━━━━━━━━━━━━━━━━━\u001b[0m \u001b[32m54.6/54.6 kB\u001b[0m \u001b[31m4.8 MB/s\u001b[0m eta \u001b[36m0:00:00\u001b[0m\n",
            "\u001b[?25hRequirement already satisfied: plotly<6,>=5.10.0 in /usr/local/lib/python3.10/dist-packages (from sdmetrics->-r requirements.txt (line 16)) (5.15.0)\n",
            "Collecting Faker<20,>=17 (from rdt->-r requirements.txt (line 18))\n",
            "  Downloading Faker-19.13.0-py3-none-any.whl (1.7 MB)\n",
            "\u001b[2K     \u001b[90m━━━━━━━━━━━━━━━━━━━━━━━━━━━━━━━━━━━━━━━━\u001b[0m \u001b[32m1.7/1.7 MB\u001b[0m \u001b[31m17.5 MB/s\u001b[0m eta \u001b[36m0:00:00\u001b[0m\n",
            "\u001b[?25hRequirement already satisfied: et-xmlfile in /usr/local/lib/python3.10/dist-packages (from openpyxl->-r requirements.txt (line 19)) (1.1.0)\n",
            "Requirement already satisfied: aiosignal>=1.1.2 in /usr/local/lib/python3.10/dist-packages (from aiohttp->datasets->-r requirements.txt (line 13)) (1.3.1)\n",
            "Requirement already satisfied: attrs>=17.3.0 in /usr/local/lib/python3.10/dist-packages (from aiohttp->datasets->-r requirements.txt (line 13)) (23.2.0)\n",
            "Requirement already satisfied: frozenlist>=1.1.1 in /usr/local/lib/python3.10/dist-packages (from aiohttp->datasets->-r requirements.txt (line 13)) (1.4.1)\n",
            "Requirement already satisfied: multidict<7.0,>=4.5 in /usr/local/lib/python3.10/dist-packages (from aiohttp->datasets->-r requirements.txt (line 13)) (6.0.5)\n",
            "Requirement already satisfied: yarl<2.0,>=1.0 in /usr/local/lib/python3.10/dist-packages (from aiohttp->datasets->-r requirements.txt (line 13)) (1.9.4)\n",
            "Requirement already satisfied: async-timeout<5.0,>=4.0 in /usr/local/lib/python3.10/dist-packages (from aiohttp->datasets->-r requirements.txt (line 13)) (4.0.3)\n",
            "Requirement already satisfied: typing-extensions>=3.7.4.3 in /usr/local/lib/python3.10/dist-packages (from huggingface-hub<1.0,>=0.19.3->transformers->-r requirements.txt (line 12)) (4.10.0)\n",
            "Requirement already satisfied: contourpy>=1.0.1 in /usr/local/lib/python3.10/dist-packages (from matplotlib>=3.0.3->zero->-r requirements.txt (line 8)) (1.2.0)\n",
            "Requirement already satisfied: cycler>=0.10 in /usr/local/lib/python3.10/dist-packages (from matplotlib>=3.0.3->zero->-r requirements.txt (line 8)) (0.12.1)\n",
            "Requirement already satisfied: fonttools>=4.22.0 in /usr/local/lib/python3.10/dist-packages (from matplotlib>=3.0.3->zero->-r requirements.txt (line 8)) (4.49.0)\n",
            "Requirement already satisfied: kiwisolver>=1.0.1 in /usr/local/lib/python3.10/dist-packages (from matplotlib>=3.0.3->zero->-r requirements.txt (line 8)) (1.4.5)\n",
            "Requirement already satisfied: pillow>=6.2.0 in /usr/local/lib/python3.10/dist-packages (from matplotlib>=3.0.3->zero->-r requirements.txt (line 8)) (9.4.0)\n",
            "Requirement already satisfied: pyparsing>=2.3.1 in /usr/local/lib/python3.10/dist-packages (from matplotlib>=3.0.3->zero->-r requirements.txt (line 8)) (3.1.1)\n",
            "Requirement already satisfied: tenacity>=6.2.0 in /usr/local/lib/python3.10/dist-packages (from plotly<6,>=5.10.0->sdmetrics->-r requirements.txt (line 16)) (8.2.3)\n",
            "Requirement already satisfied: python-utils>=3.0.0 in /usr/local/lib/python3.10/dist-packages (from progressbar2>=3.38.0->zero->-r requirements.txt (line 8)) (3.8.2)\n",
            "Requirement already satisfied: charset-normalizer<4,>=2 in /usr/local/lib/python3.10/dist-packages (from requests>=2.19.1->zero->-r requirements.txt (line 8)) (3.3.2)\n",
            "Requirement already satisfied: idna<4,>=2.5 in /usr/local/lib/python3.10/dist-packages (from requests>=2.19.1->zero->-r requirements.txt (line 8)) (3.6)\n",
            "Requirement already satisfied: setuptools in /usr/local/lib/python3.10/dist-packages (from setuptools-scm>=3.1.0->zero->-r requirements.txt (line 8)) (67.7.2)\n",
            "Requirement already satisfied: tomli>=1 in /usr/local/lib/python3.10/dist-packages (from setuptools-scm>=3.1.0->zero->-r requirements.txt (line 8)) (2.0.1)\n",
            "Requirement already satisfied: sympy in /usr/local/lib/python3.10/dist-packages (from torch>=1.13.0->peft->-r requirements.txt (line 14)) (1.12)\n",
            "Requirement already satisfied: networkx in /usr/local/lib/python3.10/dist-packages (from torch>=1.13.0->peft->-r requirements.txt (line 14)) (3.2.1)\n",
            "Requirement already satisfied: jinja2 in /usr/local/lib/python3.10/dist-packages (from torch>=1.13.0->peft->-r requirements.txt (line 14)) (3.1.3)\n",
            "Requirement already satisfied: triton==2.1.0 in /usr/local/lib/python3.10/dist-packages (from torch>=1.13.0->peft->-r requirements.txt (line 14)) (2.1.0)\n",
            "Requirement already satisfied: webencodings in /usr/local/lib/python3.10/dist-packages (from bleach->kaggle->-r requirements.txt (line 11)) (0.5.1)\n",
            "Requirement already satisfied: text-unidecode>=1.3 in /usr/local/lib/python3.10/dist-packages (from python-slugify->kaggle->-r requirements.txt (line 11)) (1.3)\n",
            "Requirement already satisfied: MarkupSafe>=2.0 in /usr/local/lib/python3.10/dist-packages (from jinja2->torch>=1.13.0->peft->-r requirements.txt (line 14)) (2.1.5)\n",
            "Requirement already satisfied: mpmath>=0.19 in /usr/local/lib/python3.10/dist-packages (from sympy->torch>=1.13.0->peft->-r requirements.txt (line 14)) (1.3.0)\n",
            "Building wheels for collected packages: ml_collections\n",
            "  Building wheel for ml_collections (setup.py) ... \u001b[?25l\u001b[?25hdone\n",
            "  Created wheel for ml_collections: filename=ml_collections-0.1.1-py3-none-any.whl size=94505 sha256=d1b37e5fb75c73d804f2bf0e27f59a890e36e7b55a87ce85450f0cb9337ebc97\n",
            "  Stored in directory: /root/.cache/pip/wheels/7b/89/c9/a9b87790789e94aadcfc393c283e3ecd5ab916aed0a31be8fe\n",
            "Successfully built ml_collections\n",
            "Installing collected packages: ply, tomli-w, setuptools-scm, quantiphy, ml_collections, executing, colorama, Click, asttokens, icecream, Faker, zero, rdt, prdc, copulas, sdmetrics, category_encoders\n",
            "  Attempting uninstall: Click\n",
            "    Found existing installation: click 8.1.7\n",
            "    Uninstalling click-8.1.7:\n",
            "      Successfully uninstalled click-8.1.7\n",
            "\u001b[31mERROR: pip's dependency resolver does not currently take into account all the packages that are installed. This behaviour is the source of the following dependency conflicts.\n",
            "flask 2.2.5 requires click>=8.0, but you have click 7.0 which is incompatible.\n",
            "dask 2023.8.1 requires click>=8.0, but you have click 7.0 which is incompatible.\n",
            "distributed 2023.8.1 requires click>=8.0, but you have click 7.0 which is incompatible.\n",
            "fiona 1.9.5 requires click~=8.0, but you have click 7.0 which is incompatible.\n",
            "pip-tools 6.13.0 requires click>=8, but you have click 7.0 which is incompatible.\n",
            "typer 0.9.0 requires click<9.0.0,>=7.1.1, but you have click 7.0 which is incompatible.\u001b[0m\u001b[31m\n",
            "\u001b[0mSuccessfully installed Click-7.0 Faker-19.13.0 asttokens-2.4.1 category_encoders-2.6.3 colorama-0.4.6 copulas-0.9.2 executing-2.0.1 icecream-2.1.3 ml_collections-0.1.1 ply-3.11 prdc-0.2 quantiphy-2.19 rdt-1.9.2 sdmetrics-0.13.0 setuptools-scm-8.0.4 tomli-w-1.0.0 zero-0.9.2\n"
          ]
        }
      ]
    },
    {
      "cell_type": "code",
      "source": [
        "! pip install dgl"
      ],
      "metadata": {
        "id": "-Kw2sXUKA5Fk",
        "colab": {
          "base_uri": "https://localhost:8080/"
        },
        "outputId": "680f61df-e5f8-4ad4-89d1-dc677c355259"
      },
      "execution_count": 12,
      "outputs": [
        {
          "output_type": "stream",
          "name": "stdout",
          "text": [
            "Collecting dgl\n",
            "  Downloading dgl-1.1.3-cp310-cp310-manylinux1_x86_64.whl (6.5 MB)\n",
            "\u001b[2K     \u001b[90m━━━━━━━━━━━━━━━━━━━━━━━━━━━━━━━━━━━━━━━━\u001b[0m \u001b[32m6.5/6.5 MB\u001b[0m \u001b[31m25.4 MB/s\u001b[0m eta \u001b[36m0:00:00\u001b[0m\n",
            "\u001b[?25hRequirement already satisfied: numpy>=1.14.0 in /usr/local/lib/python3.10/dist-packages (from dgl) (1.25.2)\n",
            "Requirement already satisfied: scipy>=1.1.0 in /usr/local/lib/python3.10/dist-packages (from dgl) (1.11.4)\n",
            "Requirement already satisfied: networkx>=2.1 in /usr/local/lib/python3.10/dist-packages (from dgl) (3.2.1)\n",
            "Requirement already satisfied: requests>=2.19.0 in /usr/local/lib/python3.10/dist-packages (from dgl) (2.31.0)\n",
            "Requirement already satisfied: tqdm in /usr/local/lib/python3.10/dist-packages (from dgl) (4.66.2)\n",
            "Requirement already satisfied: psutil>=5.8.0 in /usr/local/lib/python3.10/dist-packages (from dgl) (5.9.5)\n",
            "Requirement already satisfied: charset-normalizer<4,>=2 in /usr/local/lib/python3.10/dist-packages (from requests>=2.19.0->dgl) (3.3.2)\n",
            "Requirement already satisfied: idna<4,>=2.5 in /usr/local/lib/python3.10/dist-packages (from requests>=2.19.0->dgl) (3.6)\n",
            "Requirement already satisfied: urllib3<3,>=1.21.1 in /usr/local/lib/python3.10/dist-packages (from requests>=2.19.0->dgl) (2.0.7)\n",
            "Requirement already satisfied: certifi>=2017.4.17 in /usr/local/lib/python3.10/dist-packages (from requests>=2.19.0->dgl) (2024.2.2)\n",
            "Installing collected packages: dgl\n",
            "Successfully installed dgl-1.1.3\n"
          ]
        }
      ]
    },
    {
      "cell_type": "code",
      "source": [
        "! pip install torch_geometric"
      ],
      "metadata": {
        "id": "UmWuSgiKA_eC",
        "colab": {
          "base_uri": "https://localhost:8080/"
        },
        "outputId": "24c2e7e0-c0c2-4686-9a95-f384d104ae38"
      },
      "execution_count": 13,
      "outputs": [
        {
          "output_type": "stream",
          "name": "stdout",
          "text": [
            "Collecting torch_geometric\n",
            "  Downloading torch_geometric-2.5.0-py3-none-any.whl (1.1 MB)\n",
            "\u001b[2K     \u001b[90m━━━━━━━━━━━━━━━━━━━━━━━━━━━━━━━━━━━━━━━━\u001b[0m \u001b[32m1.1/1.1 MB\u001b[0m \u001b[31m9.6 MB/s\u001b[0m eta \u001b[36m0:00:00\u001b[0m\n",
            "\u001b[?25hRequirement already satisfied: tqdm in /usr/local/lib/python3.10/dist-packages (from torch_geometric) (4.66.2)\n",
            "Requirement already satisfied: numpy in /usr/local/lib/python3.10/dist-packages (from torch_geometric) (1.25.2)\n",
            "Requirement already satisfied: scipy in /usr/local/lib/python3.10/dist-packages (from torch_geometric) (1.11.4)\n",
            "Requirement already satisfied: fsspec in /usr/local/lib/python3.10/dist-packages (from torch_geometric) (2023.6.0)\n",
            "Requirement already satisfied: jinja2 in /usr/local/lib/python3.10/dist-packages (from torch_geometric) (3.1.3)\n",
            "Requirement already satisfied: aiohttp in /usr/local/lib/python3.10/dist-packages (from torch_geometric) (3.9.3)\n",
            "Requirement already satisfied: requests in /usr/local/lib/python3.10/dist-packages (from torch_geometric) (2.31.0)\n",
            "Requirement already satisfied: pyparsing in /usr/local/lib/python3.10/dist-packages (from torch_geometric) (3.1.1)\n",
            "Requirement already satisfied: scikit-learn in /usr/local/lib/python3.10/dist-packages (from torch_geometric) (1.2.2)\n",
            "Requirement already satisfied: psutil>=5.8.0 in /usr/local/lib/python3.10/dist-packages (from torch_geometric) (5.9.5)\n",
            "Requirement already satisfied: aiosignal>=1.1.2 in /usr/local/lib/python3.10/dist-packages (from aiohttp->torch_geometric) (1.3.1)\n",
            "Requirement already satisfied: attrs>=17.3.0 in /usr/local/lib/python3.10/dist-packages (from aiohttp->torch_geometric) (23.2.0)\n",
            "Requirement already satisfied: frozenlist>=1.1.1 in /usr/local/lib/python3.10/dist-packages (from aiohttp->torch_geometric) (1.4.1)\n",
            "Requirement already satisfied: multidict<7.0,>=4.5 in /usr/local/lib/python3.10/dist-packages (from aiohttp->torch_geometric) (6.0.5)\n",
            "Requirement already satisfied: yarl<2.0,>=1.0 in /usr/local/lib/python3.10/dist-packages (from aiohttp->torch_geometric) (1.9.4)\n",
            "Requirement already satisfied: async-timeout<5.0,>=4.0 in /usr/local/lib/python3.10/dist-packages (from aiohttp->torch_geometric) (4.0.3)\n",
            "Requirement already satisfied: MarkupSafe>=2.0 in /usr/local/lib/python3.10/dist-packages (from jinja2->torch_geometric) (2.1.5)\n",
            "Requirement already satisfied: charset-normalizer<4,>=2 in /usr/local/lib/python3.10/dist-packages (from requests->torch_geometric) (3.3.2)\n",
            "Requirement already satisfied: idna<4,>=2.5 in /usr/local/lib/python3.10/dist-packages (from requests->torch_geometric) (3.6)\n",
            "Requirement already satisfied: urllib3<3,>=1.21.1 in /usr/local/lib/python3.10/dist-packages (from requests->torch_geometric) (2.0.7)\n",
            "Requirement already satisfied: certifi>=2017.4.17 in /usr/local/lib/python3.10/dist-packages (from requests->torch_geometric) (2024.2.2)\n",
            "Requirement already satisfied: joblib>=1.1.1 in /usr/local/lib/python3.10/dist-packages (from scikit-learn->torch_geometric) (1.3.2)\n",
            "Requirement already satisfied: threadpoolctl>=2.0.0 in /usr/local/lib/python3.10/dist-packages (from scikit-learn->torch_geometric) (3.3.0)\n",
            "Installing collected packages: torch_geometric\n",
            "Successfully installed torch_geometric-2.5.0\n"
          ]
        }
      ]
    },
    {
      "cell_type": "code",
      "source": [
        "!python main.py --dataname adult --method tabddpm --mode train"
      ],
      "metadata": {
        "colab": {
          "base_uri": "https://localhost:8080/"
        },
        "id": "CrJWdfJu_3C8",
        "outputId": "06d1a7bd-522c-45d9-c2f2-8d196269b850"
      },
      "execution_count": 29,
      "outputs": [
        {
          "output_type": "stream",
          "name": "stdout",
          "text": [
            "2024-03-01 12:44:16.789363: E external/local_xla/xla/stream_executor/cuda/cuda_dnn.cc:9261] Unable to register cuDNN factory: Attempting to register factory for plugin cuDNN when one has already been registered\n",
            "2024-03-01 12:44:16.789433: E external/local_xla/xla/stream_executor/cuda/cuda_fft.cc:607] Unable to register cuFFT factory: Attempting to register factory for plugin cuFFT when one has already been registered\n",
            "2024-03-01 12:44:16.791632: E external/local_xla/xla/stream_executor/cuda/cuda_blas.cc:1515] Unable to register cuBLAS factory: Attempting to register factory for plugin cuBLAS when one has already been registered\n",
            "2024-03-01 12:44:18.774383: W tensorflow/compiler/tf2tensorrt/utils/py_utils.cc:38] TF-TRT Warning: Could not find TensorRT\n",
            "START TRAINING\n",
            "No NaNs in numerical features, skipping\n",
            "110\n",
            "{'num_classes': 2, 'is_y_cond': False, 'rtdl_params': {'d_layers': [1024, 2048, 2048, 1024], 'dropout': 0.0}, 'd_in': 110}\n",
            "mlp\n",
            "MLPDiffusion(\n",
            "  (mlp): MLP(\n",
            "    (blocks): ModuleList(\n",
            "      (0): Block(\n",
            "        (linear): Linear(in_features=1024, out_features=1024, bias=True)\n",
            "        (activation): ReLU()\n",
            "        (dropout): Dropout(p=0.0, inplace=False)\n",
            "      )\n",
            "      (1): Block(\n",
            "        (linear): Linear(in_features=1024, out_features=2048, bias=True)\n",
            "        (activation): ReLU()\n",
            "        (dropout): Dropout(p=0.0, inplace=False)\n",
            "      )\n",
            "      (2): Block(\n",
            "        (linear): Linear(in_features=2048, out_features=2048, bias=True)\n",
            "        (activation): ReLU()\n",
            "        (dropout): Dropout(p=0.0, inplace=False)\n",
            "      )\n",
            "      (3): Block(\n",
            "        (linear): Linear(in_features=2048, out_features=1024, bias=True)\n",
            "        (activation): ReLU()\n",
            "        (dropout): Dropout(p=0.0, inplace=False)\n",
            "      )\n",
            "    )\n",
            "    (head): Linear(in_features=1024, out_features=110, bias=True)\n",
            "  )\n",
            "  (proj): Linear(in_features=110, out_features=1024, bias=True)\n",
            "  (time_embed): Sequential(\n",
            "    (0): Linear(in_features=1024, out_features=1024, bias=True)\n",
            "    (1): SiLU()\n",
            "    (2): Linear(in_features=1024, out_features=1024, bias=True)\n",
            "  )\n",
            ")\n",
            "the number of parameters 11768942\n",
            "Steps:  50\n",
            "Step 1/50 MLoss: 2.29 GLoss: 1.5029 Sum: 3.7929\n",
            "Step 2/50 MLoss: 81.4059 GLoss: 91108.1953 Sum: 91189.6012\n",
            "Step 3/50 MLoss: 1.6038 GLoss: 1.983 Sum: 3.5868\n",
            "Step 4/50 MLoss: 1.9542 GLoss: 1.5122 Sum: 3.4664\n",
            "Step 5/50 MLoss: 1.8783 GLoss: 1.0384 Sum: 2.9167\n",
            "Step 6/50 MLoss: 1.5191 GLoss: 1.0802 Sum: 2.5993\n",
            "Step 7/50 MLoss: 1.6771 GLoss: 3.074 Sum: 4.7511\n",
            "Step 8/50 MLoss: 1.5107 GLoss: 2.488 Sum: 3.9987\n",
            "Step 9/50 MLoss: 1.2497 GLoss: 1.319 Sum: 2.5686999999999998\n",
            "Step 10/50 MLoss: 1.3156 GLoss: 1.111 Sum: 2.4266\n",
            "Step 11/50 MLoss: 1.2789 GLoss: 1.1259 Sum: 2.4048\n",
            "Step 12/50 MLoss: 1.3149 GLoss: 1.0672 Sum: 2.3821\n",
            "Step 13/50 MLoss: 1.3009 GLoss: 1.1197 Sum: 2.4206\n",
            "Step 14/50 MLoss: 1.3195 GLoss: 1.2865 Sum: 2.606\n",
            "Step 15/50 MLoss: 1.3078 GLoss: 1.1586 Sum: 2.4664\n",
            "Step 16/50 MLoss: 1.3325 GLoss: 1.0696 Sum: 2.4021\n",
            "Step 17/50 MLoss: 1.2015 GLoss: 1.0785 Sum: 2.2800000000000002\n",
            "Step 18/50 MLoss: 1.328 GLoss: 1.0763 Sum: 2.4043\n",
            "Step 19/50 MLoss: 1.2385 GLoss: 1.0317 Sum: 2.2702\n",
            "Step 20/50 MLoss: 1.2067 GLoss: 1.0409 Sum: 2.2476000000000003\n",
            "Step 21/50 MLoss: 1.2376 GLoss: 1.0868 Sum: 2.3244\n",
            "Step 22/50 MLoss: 1.2123 GLoss: 1.0227 Sum: 2.235\n",
            "Step 23/50 MLoss: 1.2247 GLoss: 1.0208 Sum: 2.2455\n",
            "Step 24/50 MLoss: 1.1867 GLoss: 1.0084 Sum: 2.1951\n",
            "Step 25/50 MLoss: 1.2052 GLoss: 1.0111 Sum: 2.2163000000000004\n",
            "Step 26/50 MLoss: 1.1903 GLoss: 1.0091 Sum: 2.1994\n",
            "Step 27/50 MLoss: 1.2222 GLoss: 1.0112 Sum: 2.2334\n",
            "Step 28/50 MLoss: 1.1962 GLoss: 1.0029 Sum: 2.1990999999999996\n",
            "Step 29/50 MLoss: 1.1774 GLoss: 1.0194 Sum: 2.1968\n",
            "Step 30/50 MLoss: 1.1496 GLoss: 1.0151 Sum: 2.1647\n",
            "Step 31/50 MLoss: 1.4268 GLoss: 0.9897 Sum: 2.4165\n",
            "Step 32/50 MLoss: 1.2286 GLoss: 1.0069 Sum: 2.2355\n",
            "Step 33/50 MLoss: 1.2471 GLoss: 1.0013 Sum: 2.2484\n",
            "Step 34/50 MLoss: 1.1952 GLoss: 1.0103 Sum: 2.2055\n",
            "Step 35/50 MLoss: 1.2099 GLoss: 0.9915 Sum: 2.2014\n",
            "Step 36/50 MLoss: 1.2068 GLoss: 0.9981 Sum: 2.2049000000000003\n",
            "Step 37/50 MLoss: 1.2277 GLoss: 1.0088 Sum: 2.2365\n",
            "Step 38/50 MLoss: 1.2782 GLoss: 1.0107 Sum: 2.2889\n",
            "Step 39/50 MLoss: 1.161 GLoss: 1.0045 Sum: 2.1654999999999998\n",
            "Step 40/50 MLoss: 1.2046 GLoss: 1.008 Sum: 2.2126\n",
            "Step 41/50 MLoss: 1.1832 GLoss: 1.003 Sum: 2.1862\n",
            "Step 42/50 MLoss: 1.1781 GLoss: 1.0076 Sum: 2.1856999999999998\n",
            "Step 43/50 MLoss: 1.1752 GLoss: 0.9967 Sum: 2.1719\n",
            "Step 44/50 MLoss: 1.1907 GLoss: 0.9869 Sum: 2.1776\n",
            "Step 45/50 MLoss: 1.1766 GLoss: 0.9998 Sum: 2.1764\n",
            "Step 46/50 MLoss: 1.1783 GLoss: 0.9973 Sum: 2.1755999999999998\n",
            "Step 47/50 MLoss: 1.2081 GLoss: 0.9982 Sum: 2.2062999999999997\n",
            "Step 48/50 MLoss: 1.1486 GLoss: 0.999 Sum: 2.1476\n",
            "Step 49/50 MLoss: 1.2029 GLoss: 1.0091 Sum: 2.212\n",
            "Step 50/50 MLoss: 1.1752 GLoss: 0.9911 Sum: 2.1663\n"
          ]
        }
      ]
    },
    {
      "cell_type": "code",
      "source": [
        "# Save the trained model\n"
      ],
      "metadata": {
        "id": "fS_209kBFvAq"
      },
      "execution_count": null,
      "outputs": []
    },
    {
      "cell_type": "code",
      "source": [
        "!python main.py --dataname adult --method tabddpm --mode sample --save_path /content/tabsyn/syn_data/adult_gentabddpm.text"
      ],
      "metadata": {
        "colab": {
          "base_uri": "https://localhost:8080/"
        },
        "id": "zmkyfOPduNNX",
        "outputId": "d23f9da0-e397-4265-fe10-e30d26369440"
      },
      "execution_count": 1,
      "outputs": [
        {
          "output_type": "stream",
          "name": "stdout",
          "text": [
            "python3: can't open file '/content/main.py': [Errno 2] No such file or directory\n"
          ]
        }
      ]
    },
    {
      "cell_type": "code",
      "source": [
        "# train VAE first\n",
        "!python main.py --dataname adult --method vae --mode train"
      ],
      "metadata": {
        "id": "u4fLHj-oLs8s",
        "colab": {
          "base_uri": "https://localhost:8080/"
        },
        "outputId": "031307ca-faae-4444-da7c-1de3c409c805"
      },
      "execution_count": 30,
      "outputs": [
        {
          "output_type": "stream",
          "name": "stdout",
          "text": [
            "2024-03-01 12:48:48.183833: E external/local_xla/xla/stream_executor/cuda/cuda_dnn.cc:9261] Unable to register cuDNN factory: Attempting to register factory for plugin cuDNN when one has already been registered\n",
            "2024-03-01 12:48:48.183899: E external/local_xla/xla/stream_executor/cuda/cuda_fft.cc:607] Unable to register cuFFT factory: Attempting to register factory for plugin cuFFT when one has already been registered\n",
            "2024-03-01 12:48:48.185460: E external/local_xla/xla/stream_executor/cuda/cuda_blas.cc:1515] Unable to register cuBLAS factory: Attempting to register factory for plugin cuBLAS when one has already been registered\n",
            "2024-03-01 12:48:49.590660: W tensorflow/compiler/tf2tensorrt/utils/py_utils.cc:38] TF-TRT Warning: Could not find TensorRT\n",
            "No NaNs in numerical features, skipping\n",
            "self.category_embeddings.weight.shape=torch.Size([104, 4])\n",
            "self.category_embeddings.weight.shape=torch.Size([104, 4])\n",
            "Epoch 1/50: 100% 8/8 [00:08<00:00,  1.07s/it]\n",
            "epoch: 0, beta = 0.010000, Train MSE: 7.604400, Train CE:2.233200, Train KL:0.465646, Val MSE:6.308529, Val CE:2.211868, Train ACC:0.175766, Val ACC:0.179296\n",
            "Epoch 2/50: 100% 8/8 [00:08<00:00,  1.05s/it]\n",
            "epoch: 1, beta = 0.010000, Train MSE: 5.450599, Train CE:2.234397, Train KL:0.572994, Val MSE:4.374093, Val CE:2.284521, Train ACC:0.204451, Val ACC:0.208314\n",
            "Epoch 3/50: 100% 8/8 [00:15<00:00,  1.90s/it]\n",
            "epoch: 2, beta = 0.010000, Train MSE: 3.565194, Train CE:2.342829, Train KL:0.907720, Val MSE:2.577128, Val CE:2.424845, Train ACC:0.218451, Val ACC:0.222604\n",
            "Epoch 4/50: 100% 8/8 [00:08<00:00,  1.11s/it]\n",
            "epoch: 3, beta = 0.010000, Train MSE: 1.959595, Train CE:2.469980, Train KL:1.392840, Val MSE:1.300043, Val CE:2.490510, Train ACC:0.234508, Val ACC:0.237946\n",
            "Epoch 5/50: 100% 8/8 [00:08<00:00,  1.09s/it]\n",
            "epoch: 4, beta = 0.010000, Train MSE: 0.969378, Train CE:2.436131, Train KL:1.944847, Val MSE:0.639826, Val CE:2.329539, Train ACC:0.276992, Val ACC:0.282279\n",
            "Epoch 6/50: 100% 8/8 [00:07<00:00,  1.01it/s]\n",
            "epoch: 5, beta = 0.010000, Train MSE: 0.492065, Train CE:2.218041, Train KL:2.422683, Val MSE:0.358645, Val CE:2.062594, Train ACC:0.355304, Val ACC:0.374458\n",
            "Epoch 7/50: 100% 8/8 [00:07<00:00,  1.02it/s]\n",
            "epoch: 6, beta = 0.010000, Train MSE: 0.312820, Train CE:1.951004, Train KL:2.746677, Val MSE:0.273674, Val CE:1.816090, Train ACC:0.426359, Val ACC:0.429157\n",
            "Epoch 8/50: 100% 8/8 [00:08<00:00,  1.04s/it]\n",
            "epoch: 7, beta = 0.010000, Train MSE: 0.247690, Train CE:1.733874, Train KL:2.983933, Val MSE:0.217049, Val CE:1.634262, Train ACC:0.453616, Val ACC:0.463758\n",
            "Epoch 9/50: 100% 8/8 [00:08<00:00,  1.08s/it]\n",
            "epoch: 8, beta = 0.010000, Train MSE: 0.190271, Train CE:1.566751, Train KL:3.193598, Val MSE:0.164404, Val CE:1.476009, Train ACC:0.605211, Val ACC:0.618171\n",
            "Epoch 10/50: 100% 8/8 [00:08<00:00,  1.03s/it]\n",
            "epoch: 9, beta = 0.010000, Train MSE: 0.148335, Train CE:1.407667, Train KL:3.354304, Val MSE:0.134388, Val CE:1.319886, Train ACC:0.676352, Val ACC:0.690416\n",
            "Epoch 11/50: 100% 8/8 [00:08<00:00,  1.07s/it]\n",
            "epoch: 10, beta = 0.010000, Train MSE: 0.124228, Train CE:1.262535, Train KL:3.499471, Val MSE:0.114162, Val CE:1.189199, Train ACC:0.725151, Val ACC:0.734988\n",
            "Epoch 12/50: 100% 8/8 [00:08<00:00,  1.01s/it]\n",
            "epoch: 11, beta = 0.010000, Train MSE: 0.106204, Train CE:1.138404, Train KL:3.662489, Val MSE:0.098302, Val CE:1.073091, Train ACC:0.751607, Val ACC:0.750049\n",
            "Epoch 13/50: 100% 8/8 [00:08<00:00,  1.04s/it]\n",
            "epoch: 12, beta = 0.010000, Train MSE: 0.092885, Train CE:1.027288, Train KL:3.823126, Val MSE:0.087506, Val CE:0.968200, Train ACC:0.765778, Val ACC:0.767022\n",
            "Epoch 14/50: 100% 8/8 [00:08<00:00,  1.00s/it]\n",
            "epoch: 13, beta = 0.010000, Train MSE: 0.082636, Train CE:0.927851, Train KL:3.966017, Val MSE:0.077284, Val CE:0.877424, Train ACC:0.790063, Val ACC:0.796552\n",
            "Epoch 15/50: 100% 8/8 [00:08<00:00,  1.09s/it]\n",
            "epoch: 14, beta = 0.010000, Train MSE: 0.072532, Train CE:0.843868, Train KL:4.078139, Val MSE:0.067379, Val CE:0.803145, Train ACC:0.809948, Val ACC:0.809485\n",
            "Epoch 16/50: 100% 8/8 [00:08<00:00,  1.05s/it]\n",
            "epoch: 15, beta = 0.010000, Train MSE: 0.062856, Train CE:0.775439, Train KL:4.162555, Val MSE:0.058431, Val CE:0.741753, Train ACC:0.820919, Val ACC:0.826034\n",
            "Epoch 17/50: 100% 8/8 [00:08<00:00,  1.03s/it]\n",
            "epoch: 16, beta = 0.010000, Train MSE: 0.054636, Train CE:0.718770, Train KL:4.232575, Val MSE:0.051541, Val CE:0.689932, Train ACC:0.838976, Val ACC:0.839417\n",
            "Epoch 18/50: 100% 8/8 [00:08<00:00,  1.03s/it]\n",
            "epoch: 17, beta = 0.010000, Train MSE: 0.048601, Train CE:0.670235, Train KL:4.294990, Val MSE:0.046707, Val CE:0.644989, Train ACC:0.842576, Val ACC:0.842946\n",
            "Epoch 19/50: 100% 8/8 [00:07<00:00,  1.06it/s]\n",
            "epoch: 18, beta = 0.010000, Train MSE: 0.044585, Train CE:0.627518, Train KL:4.350614, Val MSE:0.043626, Val CE:0.604714, Train ACC:0.844633, Val ACC:0.846713\n",
            "Epoch 20/50: 100% 8/8 [00:08<00:00,  1.00s/it]\n",
            "epoch: 19, beta = 0.010000, Train MSE: 0.041735, Train CE:0.589446, Train KL:4.397183, Val MSE:0.040933, Val CE:0.568987, Train ACC:0.850661, Val ACC:0.850903\n",
            "Epoch 21/50: 100% 8/8 [00:08<00:00,  1.01s/it]\n",
            "epoch: 20, beta = 0.010000, Train MSE: 0.039432, Train CE:0.555049, Train KL:4.437955, Val MSE:0.038804, Val CE:0.536388, Train ACC:0.851776, Val ACC:0.851736\n",
            "Epoch 22/50: 100% 8/8 [00:08<00:00,  1.04s/it]\n",
            "epoch: 21, beta = 0.010000, Train MSE: 0.037576, Train CE:0.523892, Train KL:4.473074, Val MSE:0.037397, Val CE:0.506641, Train ACC:0.854518, Val ACC:0.854356\n",
            "Epoch 23/50: 100% 8/8 [00:08<00:00,  1.02s/it]\n",
            "epoch: 22, beta = 0.010000, Train MSE: 0.036138, Train CE:0.495339, Train KL:4.503271, Val MSE:0.035923, Val CE:0.479290, Train ACC:0.859890, Val ACC:0.861045\n",
            "Epoch 24/50: 100% 8/8 [00:07<00:00,  1.07it/s]\n",
            "epoch: 23, beta = 0.010000, Train MSE: 0.034808, Train CE:0.468908, Train KL:4.526043, Val MSE:0.034644, Val CE:0.453855, Train ACC:0.867432, Val ACC:0.869432\n",
            "Epoch 25/50: 100% 8/8 [00:07<00:00,  1.02it/s]\n",
            "epoch: 24, beta = 0.010000, Train MSE: 0.033683, Train CE:0.444381, Train KL:4.543505, Val MSE:0.033554, Val CE:0.430373, Train ACC:0.875346, Val ACC:0.875260\n",
            "Epoch 26/50: 100% 8/8 [00:08<00:00,  1.11s/it]\n",
            "epoch: 25, beta = 0.010000, Train MSE: 0.032718, Train CE:0.421712, Train KL:4.556899, Val MSE:0.032577, Val CE:0.408504, Train ACC:0.880203, Val ACC:0.880645\n",
            "Epoch 27/50: 100% 8/8 [00:08<00:00,  1.10s/it]\n",
            "epoch: 26, beta = 0.010000, Train MSE: 0.031778, Train CE:0.400568, Train KL:4.567271, Val MSE:0.031583, Val CE:0.388393, Train ACC:0.885603, Val ACC:0.884480\n",
            "Epoch 28/50: 100% 8/8 [00:08<00:00,  1.11s/it]\n",
            "epoch: 27, beta = 0.010000, Train MSE: 0.030919, Train CE:0.381273, Train KL:4.575254, Val MSE:0.030669, Val CE:0.369795, Train ACC:0.887860, Val ACC:0.887749\n",
            "Epoch 29/50: 100% 8/8 [00:08<00:00,  1.07s/it]\n",
            "epoch: 28, beta = 0.010000, Train MSE: 0.030139, Train CE:0.363245, Train KL:4.582935, Val MSE:0.029915, Val CE:0.352358, Train ACC:0.889775, Val ACC:0.891660\n",
            "Epoch 30/50: 100% 8/8 [00:08<00:00,  1.07s/it]\n",
            "epoch: 29, beta = 0.010000, Train MSE: 0.029335, Train CE:0.346499, Train KL:4.591402, Val MSE:0.028986, Val CE:0.336288, Train ACC:0.899689, Val ACC:0.902361\n",
            "Epoch 31/50: 100% 8/8 [00:08<00:00,  1.02s/it]\n",
            "epoch: 30, beta = 0.010000, Train MSE: 0.028405, Train CE:0.330951, Train KL:4.599022, Val MSE:0.028043, Val CE:0.321201, Train ACC:0.913774, Val ACC:0.912727\n",
            "Epoch 32/50: 100% 8/8 [00:08<00:00,  1.00s/it]\n",
            "epoch: 31, beta = 0.010000, Train MSE: 0.027744, Train CE:0.315983, Train KL:4.604758, Val MSE:0.027526, Val CE:0.306611, Train ACC:0.920059, Val ACC:0.920016\n",
            "Epoch 33/50: 100% 8/8 [00:08<00:00,  1.04s/it]\n",
            "epoch: 32, beta = 0.010000, Train MSE: 0.027078, Train CE:0.301685, Train KL:4.609113, Val MSE:0.026924, Val CE:0.292419, Train ACC:0.926402, Val ACC:0.926131\n",
            "Epoch 34/50: 100% 8/8 [00:08<00:00,  1.03s/it]\n",
            "epoch: 33, beta = 0.010000, Train MSE: 0.026384, Train CE:0.287731, Train KL:4.613128, Val MSE:0.026083, Val CE:0.278816, Train ACC:0.931545, Val ACC:0.932826\n",
            "Epoch 35/50: 100% 8/8 [00:08<00:00,  1.04s/it]\n",
            "epoch: 34, beta = 0.010000, Train MSE: 0.025853, Train CE:0.274217, Train KL:4.616508, Val MSE:0.025614, Val CE:0.265844, Train ACC:0.943773, Val ACC:0.943308\n",
            "Epoch 36/50: 100% 8/8 [00:08<00:00,  1.06s/it]\n",
            "epoch: 35, beta = 0.010000, Train MSE: 0.025350, Train CE:0.261508, Train KL:4.616746, Val MSE:0.024965, Val CE:0.253512, Train ACC:0.949973, Val ACC:0.948631\n",
            "Epoch 37/50: 100% 8/8 [00:07<00:00,  1.04it/s]\n",
            "epoch: 36, beta = 0.010000, Train MSE: 0.024737, Train CE:0.249417, Train KL:4.614757, Val MSE:0.024376, Val CE:0.241835, Train ACC:0.949973, Val ACC:0.951846\n",
            "Epoch 38/50: 100% 8/8 [00:07<00:00,  1.05it/s]\n",
            "epoch: 37, beta = 0.010000, Train MSE: 0.024107, Train CE:0.238049, Train KL:4.611663, Val MSE:0.023857, Val CE:0.230950, Train ACC:0.952459, Val ACC:0.953490\n",
            "Epoch 39/50: 100% 8/8 [00:08<00:00,  1.04s/it]\n",
            "epoch: 38, beta = 0.010000, Train MSE: 0.023667, Train CE:0.227388, Train KL:4.608483, Val MSE:0.023137, Val CE:0.220694, Train ACC:0.953544, Val ACC:0.954712\n",
            "Epoch 40/50: 100% 8/8 [00:08<00:00,  1.05s/it]\n",
            "epoch: 39, beta = 0.010000, Train MSE: 0.022978, Train CE:0.217511, Train KL:4.604587, Val MSE:0.022462, Val CE:0.211193, Train ACC:0.954316, Val ACC:0.955824\n",
            "Epoch 41/50: 100% 8/8 [00:08<00:00,  1.03s/it]\n",
            "epoch: 40, beta = 0.010000, Train MSE: 0.022340, Train CE:0.208331, Train KL:4.599932, Val MSE:0.022017, Val CE:0.202201, Train ACC:0.956973, Val ACC:0.956780\n",
            "Epoch 42/50: 100% 8/8 [00:08<00:00,  1.03s/it]\n",
            "epoch: 41, beta = 0.010000, Train MSE: 0.021781, Train CE:0.199533, Train KL:4.595975, Val MSE:0.021382, Val CE:0.193893, Train ACC:0.957001, Val ACC:0.957333\n",
            "Epoch 43/50: 100% 8/8 [00:07<00:00,  1.02it/s]\n",
            "epoch: 42, beta = 0.010000, Train MSE: 0.021074, Train CE:0.191519, Train KL:4.591704, Val MSE:0.020766, Val CE:0.185973, Train ACC:0.957258, Val ACC:0.958117\n",
            "Epoch 44/50: 100% 8/8 [00:07<00:00,  1.00it/s]\n",
            "epoch: 43, beta = 0.010000, Train MSE: 0.020692, Train CE:0.183960, Train KL:4.586650, Val MSE:0.020161, Val CE:0.178667, Train ACC:0.958458, Val ACC:0.959128\n",
            "Epoch 45/50: 100% 8/8 [00:08<00:00,  1.08s/it]\n",
            "epoch: 44, beta = 0.010000, Train MSE: 0.020015, Train CE:0.176857, Train KL:4.582406, Val MSE:0.019608, Val CE:0.171800, Train ACC:0.961287, Val ACC:0.959830\n",
            "Epoch 46/50: 100% 8/8 [00:08<00:00,  1.08s/it]\n",
            "epoch: 45, beta = 0.010000, Train MSE: 0.019519, Train CE:0.170068, Train KL:4.579477, Val MSE:0.018987, Val CE:0.165291, Train ACC:0.962315, Val ACC:0.960547\n",
            "Epoch 47/50: 100% 8/8 [00:08<00:00,  1.02s/it]\n",
            "epoch: 46, beta = 0.010000, Train MSE: 0.018834, Train CE:0.163556, Train KL:4.574677, Val MSE:0.018480, Val CE:0.158768, Train ACC:0.962030, Val ACC:0.961195\n",
            "Epoch 48/50: 100% 8/8 [00:07<00:00,  1.04it/s]\n",
            "epoch: 47, beta = 0.010000, Train MSE: 0.018484, Train CE:0.157181, Train KL:4.569887, Val MSE:0.017941, Val CE:0.152480, Train ACC:0.961001, Val ACC:0.962008\n",
            "Epoch 49/50: 100% 8/8 [00:07<00:00,  1.07it/s]\n",
            "epoch: 48, beta = 0.010000, Train MSE: 0.017917, Train CE:0.150920, Train KL:4.562532, Val MSE:0.017423, Val CE:0.146267, Train ACC:0.962115, Val ACC:0.963482\n",
            "Epoch 50/50: 100% 8/8 [00:08<00:00,  1.04s/it]\n",
            "epoch: 49, beta = 0.010000, Train MSE: 0.017344, Train CE:0.144829, Train KL:4.554116, Val MSE:0.016927, Val CE:0.140231, Train ACC:0.966458, Val ACC:0.965618\n",
            "Training time: 8.8341 mins\n",
            "Successfully load and save the model!\n",
            "Successfully save pretrained embeddings in disk!\n"
          ]
        }
      ]
    },
    {
      "cell_type": "code",
      "source": [
        "# after the VAE is trained, train the diffusion model\n",
        "!python main.py --dataname adult --method tabsyn --mode train"
      ],
      "metadata": {
        "colab": {
          "base_uri": "https://localhost:8080/"
        },
        "id": "RgAyxJRnOqxN",
        "outputId": "6e9902cf-0974-4a3c-89e6-687acfe3ab9c"
      },
      "execution_count": 21,
      "outputs": [
        {
          "output_type": "stream",
          "name": "stdout",
          "text": [
            "2024-02-29 21:22:07.881478: E external/local_xla/xla/stream_executor/cuda/cuda_dnn.cc:9261] Unable to register cuDNN factory: Attempting to register factory for plugin cuDNN when one has already been registered\n",
            "2024-02-29 21:22:07.881552: E external/local_xla/xla/stream_executor/cuda/cuda_fft.cc:607] Unable to register cuFFT factory: Attempting to register factory for plugin cuFFT when one has already been registered\n",
            "2024-02-29 21:22:07.883019: E external/local_xla/xla/stream_executor/cuda/cuda_blas.cc:1515] Unable to register cuBLAS factory: Attempting to register factory for plugin cuBLAS when one has already been registered\n",
            "2024-02-29 21:22:09.473821: W tensorflow/compiler/tf2tensorrt/utils/py_utils.cc:38] TF-TRT Warning: Could not find TensorRT\n",
            "/content/tabsyn/tabsyn/ckpt/adult/\n",
            "MLPDiffusion(\n",
            "  (proj): Linear(in_features=60, out_features=1024, bias=True)\n",
            "  (mlp): Sequential(\n",
            "    (0): Linear(in_features=1024, out_features=2048, bias=True)\n",
            "    (1): SiLU()\n",
            "    (2): Linear(in_features=2048, out_features=2048, bias=True)\n",
            "    (3): SiLU()\n",
            "    (4): Linear(in_features=2048, out_features=1024, bias=True)\n",
            "    (5): SiLU()\n",
            "    (6): Linear(in_features=1024, out_features=60, bias=True)\n",
            "  )\n",
            "  (map_noise): PositionalEmbedding()\n",
            "  (time_embed): Sequential(\n",
            "    (0): Linear(in_features=1024, out_features=1024, bias=True)\n",
            "    (1): SiLU()\n",
            "    (2): Linear(in_features=1024, out_features=1024, bias=True)\n",
            "  )\n",
            ")\n",
            "the number of parameters 10616892\n",
            "Epoch 1/101: 100% 8/8 [00:34<00:00,  4.31s/it, Loss=1.22]\n",
            "Epoch 2/101: 100% 8/8 [00:35<00:00,  4.42s/it, Loss=1.09]\n",
            "Epoch 3/101: 100% 8/8 [00:35<00:00,  4.43s/it, Loss=0.986]\n",
            "Epoch 4/101: 100% 8/8 [00:35<00:00,  4.43s/it, Loss=0.939]\n",
            "Epoch 5/101: 100% 8/8 [00:34<00:00,  4.29s/it, Loss=0.889]\n",
            "Epoch 6/101: 100% 8/8 [00:35<00:00,  4.40s/it, Loss=0.842]\n",
            "Epoch 7/101: 100% 8/8 [00:35<00:00,  4.43s/it, Loss=0.788]\n",
            "Epoch 8/101: 100% 8/8 [00:35<00:00,  4.39s/it, Loss=0.729]\n",
            "Epoch 9/101: 100% 8/8 [00:34<00:00,  4.33s/it, Loss=0.669]\n",
            "Epoch 10/101: 100% 8/8 [00:35<00:00,  4.44s/it, Loss=0.639]\n",
            "Epoch 11/101: 100% 8/8 [00:35<00:00,  4.40s/it, Loss=0.621]\n",
            "Epoch 12/101: 100% 8/8 [00:35<00:00,  4.42s/it, Loss=0.574]\n",
            "Epoch 13/101: 100% 8/8 [00:34<00:00,  4.32s/it, Loss=0.567]\n",
            "Epoch 14/101: 100% 8/8 [00:35<00:00,  4.46s/it, Loss=0.556]\n",
            "Epoch 15/101: 100% 8/8 [00:35<00:00,  4.40s/it, Loss=0.531]\n",
            "Epoch 16/101: 100% 8/8 [00:35<00:00,  4.41s/it, Loss=0.517]\n",
            "Epoch 17/101: 100% 8/8 [00:34<00:00,  4.28s/it, Loss=0.486]\n",
            "Epoch 18/101: 100% 8/8 [00:35<00:00,  4.42s/it, Loss=0.522]\n",
            "Epoch 19/101: 100% 8/8 [00:35<00:00,  4.40s/it, Loss=0.486]\n",
            "Epoch 20/101: 100% 8/8 [00:35<00:00,  4.39s/it, Loss=0.484]\n",
            "Epoch 21/101: 100% 8/8 [00:34<00:00,  4.29s/it, Loss=0.467]\n",
            "Epoch 22/101: 100% 8/8 [00:35<00:00,  4.40s/it, Loss=0.467]\n",
            "Epoch 23/101: 100% 8/8 [00:35<00:00,  4.41s/it, Loss=0.456]\n",
            "Epoch 24/101: 100% 8/8 [00:35<00:00,  4.39s/it, Loss=0.437]\n",
            "Epoch 25/101: 100% 8/8 [00:34<00:00,  4.33s/it, Loss=0.435]\n",
            "Epoch 26/101: 100% 8/8 [00:35<00:00,  4.43s/it, Loss=0.451]\n",
            "Epoch 27/101: 100% 8/8 [00:35<00:00,  4.42s/it, Loss=0.419]\n",
            "Epoch 28/101: 100% 8/8 [00:35<00:00,  4.46s/it, Loss=0.417]\n",
            "Epoch 29/101: 100% 8/8 [00:34<00:00,  4.31s/it, Loss=0.416]\n",
            "Epoch 30/101: 100% 8/8 [00:35<00:00,  4.44s/it, Loss=0.416]\n",
            "Epoch 31/101: 100% 8/8 [00:35<00:00,  4.43s/it, Loss=0.4]\n",
            "Epoch 32/101: 100% 8/8 [00:34<00:00,  4.37s/it, Loss=0.411]\n",
            "Epoch 33/101: 100% 8/8 [00:34<00:00,  4.31s/it, Loss=0.393]\n",
            "Epoch 34/101: 100% 8/8 [00:35<00:00,  4.43s/it, Loss=0.399]\n",
            "Epoch 35/101: 100% 8/8 [00:35<00:00,  4.41s/it, Loss=0.402]\n",
            "Epoch 36/101: 100% 8/8 [00:35<00:00,  4.41s/it, Loss=0.395]\n",
            "Epoch 37/101: 100% 8/8 [00:34<00:00,  4.31s/it, Loss=0.399]\n",
            "Epoch 38/101: 100% 8/8 [00:35<00:00,  4.43s/it, Loss=0.395]\n",
            "Epoch 39/101: 100% 8/8 [00:35<00:00,  4.44s/it, Loss=0.366]\n",
            "Epoch 40/101: 100% 8/8 [00:35<00:00,  4.41s/it, Loss=0.398]\n",
            "Epoch 41/101: 100% 8/8 [00:34<00:00,  4.30s/it, Loss=0.369]\n",
            "Epoch 42/101: 100% 8/8 [00:35<00:00,  4.42s/it, Loss=0.394]\n",
            "Epoch 43/101: 100% 8/8 [00:35<00:00,  4.42s/it, Loss=0.395]\n",
            "Epoch 44/101: 100% 8/8 [00:34<00:00,  4.32s/it, Loss=0.368]\n",
            "Epoch 45/101: 100% 8/8 [00:35<00:00,  4.38s/it, Loss=0.38]\n",
            "Epoch 46/101: 100% 8/8 [00:35<00:00,  4.42s/it, Loss=0.363]\n",
            "Epoch 47/101: 100% 8/8 [00:35<00:00,  4.44s/it, Loss=0.379]\n",
            "Epoch 48/101: 100% 8/8 [00:34<00:00,  4.35s/it, Loss=0.361]\n",
            "Epoch 49/101: 100% 8/8 [00:35<00:00,  4.42s/it, Loss=0.371]\n",
            "Epoch 50/101: 100% 8/8 [00:35<00:00,  4.44s/it, Loss=0.36]\n",
            "Epoch 51/101: 100% 8/8 [00:35<00:00,  4.44s/it, Loss=0.357]\n",
            "Epoch 52/101: 100% 8/8 [00:34<00:00,  4.33s/it, Loss=0.364]\n",
            "Epoch 53/101: 100% 8/8 [00:34<00:00,  4.35s/it, Loss=0.347]\n",
            "Epoch 54/101: 100% 8/8 [00:35<00:00,  4.41s/it, Loss=0.353]\n",
            "Epoch 55/101: 100% 8/8 [00:35<00:00,  4.43s/it, Loss=0.37]\n",
            "Epoch 56/101: 100% 8/8 [00:34<00:00,  4.26s/it, Loss=0.364]\n",
            "Epoch 57/101: 100% 8/8 [00:35<00:00,  4.44s/it, Loss=0.34]\n",
            "Epoch 58/101: 100% 8/8 [00:35<00:00,  4.42s/it, Loss=0.349]\n",
            "Epoch 59/101: 100% 8/8 [00:35<00:00,  4.42s/it, Loss=0.338]\n",
            "Epoch 60/101: 100% 8/8 [00:34<00:00,  4.32s/it, Loss=0.342]\n",
            "Epoch 61/101: 100% 8/8 [00:34<00:00,  4.37s/it, Loss=0.363]\n",
            "Epoch 62/101: 100% 8/8 [00:35<00:00,  4.42s/it, Loss=0.353]\n",
            "Epoch 63/101: 100% 8/8 [00:35<00:00,  4.43s/it, Loss=0.337]\n",
            "Epoch 64/101: 100% 8/8 [00:34<00:00,  4.30s/it, Loss=0.346]\n",
            "Epoch 65/101: 100% 8/8 [00:35<00:00,  4.41s/it, Loss=0.338]\n",
            "Epoch 66/101: 100% 8/8 [00:35<00:00,  4.41s/it, Loss=0.36]\n",
            "Epoch 67/101: 100% 8/8 [00:35<00:00,  4.44s/it, Loss=0.341]\n",
            "Epoch 68/101: 100% 8/8 [00:34<00:00,  4.33s/it, Loss=0.334]\n",
            "Epoch 69/101: 100% 8/8 [00:35<00:00,  4.47s/it, Loss=0.33]\n",
            "Epoch 70/101: 100% 8/8 [00:35<00:00,  4.44s/it, Loss=0.34]\n",
            "Epoch 71/101: 100% 8/8 [00:36<00:00,  4.50s/it, Loss=0.328]\n",
            "Epoch 72/101: 100% 8/8 [00:34<00:00,  4.34s/it, Loss=0.334]\n",
            "Epoch 73/101: 100% 8/8 [00:35<00:00,  4.41s/it, Loss=0.33]\n",
            "Epoch 74/101: 100% 8/8 [00:35<00:00,  4.42s/it, Loss=0.336]\n",
            "Epoch 75/101: 100% 8/8 [00:35<00:00,  4.42s/it, Loss=0.352]\n",
            "Epoch 76/101: 100% 8/8 [00:34<00:00,  4.36s/it, Loss=0.349]\n",
            "Epoch 77/101: 100% 8/8 [00:35<00:00,  4.43s/it, Loss=0.333]\n",
            "Epoch 78/101: 100% 8/8 [00:35<00:00,  4.43s/it, Loss=0.334]\n",
            "Epoch 79/101: 100% 8/8 [00:35<00:00,  4.44s/it, Loss=0.33]\n",
            "Epoch 80/101: 100% 8/8 [00:34<00:00,  4.30s/it, Loss=0.319]\n",
            "Epoch 81/101: 100% 8/8 [00:35<00:00,  4.38s/it, Loss=0.339]\n",
            "Epoch 82/101: 100% 8/8 [00:35<00:00,  4.43s/it, Loss=0.324]\n",
            "Epoch 83/101: 100% 8/8 [00:35<00:00,  4.46s/it, Loss=0.315]\n",
            "Epoch 84/101: 100% 8/8 [00:34<00:00,  4.27s/it, Loss=0.323]\n",
            "Epoch 85/101: 100% 8/8 [00:35<00:00,  4.39s/it, Loss=0.349]\n",
            "Epoch 86/101: 100% 8/8 [00:35<00:00,  4.42s/it, Loss=0.312]\n",
            "Epoch 87/101: 100% 8/8 [00:35<00:00,  4.42s/it, Loss=0.333]\n",
            "Epoch 88/101: 100% 8/8 [00:34<00:00,  4.32s/it, Loss=0.323]\n",
            "Epoch 89/101: 100% 8/8 [00:35<00:00,  4.41s/it, Loss=0.327]\n",
            "Epoch 90/101: 100% 8/8 [00:35<00:00,  4.45s/it, Loss=0.314]\n",
            "Epoch 91/101: 100% 8/8 [00:35<00:00,  4.50s/it, Loss=0.336]\n",
            "Epoch 92/101: 100% 8/8 [00:34<00:00,  4.35s/it, Loss=0.33]\n",
            "Epoch 93/101: 100% 8/8 [00:35<00:00,  4.41s/it, Loss=0.327]\n",
            "Epoch 94/101: 100% 8/8 [00:35<00:00,  4.44s/it, Loss=0.327]\n",
            "Epoch 95/101: 100% 8/8 [00:35<00:00,  4.47s/it, Loss=0.322]\n",
            "Epoch 96/101: 100% 8/8 [00:34<00:00,  4.34s/it, Loss=0.32]\n",
            "Epoch 97/101: 100% 8/8 [00:35<00:00,  4.43s/it, Loss=0.315]\n",
            "Epoch 98/101: 100% 8/8 [00:35<00:00,  4.48s/it, Loss=0.318]\n",
            "Epoch 99/101: 100% 8/8 [00:35<00:00,  4.45s/it, Loss=0.305]\n",
            "Epoch 100/101: 100% 8/8 [00:34<00:00,  4.30s/it, Loss=0.315]\n",
            "Epoch 101/101: 100% 8/8 [00:35<00:00,  4.41s/it, Loss=0.32]\n",
            "Time:  3556.1720440387726\n"
          ]
        }
      ]
    },
    {
      "cell_type": "code",
      "source": [
        "!python main.py --dataname adult --method tabsyn --mode sample --save_path /content/tabsyn/syn_data/adult_gen.text"
      ],
      "metadata": {
        "colab": {
          "base_uri": "https://localhost:8080/"
        },
        "id": "NgQQF_Wd-oJ9",
        "outputId": "58e8f570-c131-46a1-8f9c-ef16ccf8757c"
      },
      "execution_count": 44,
      "outputs": [
        {
          "output_type": "stream",
          "name": "stdout",
          "text": [
            "2024-03-01 03:11:32.360071: E external/local_xla/xla/stream_executor/cuda/cuda_dnn.cc:9261] Unable to register cuDNN factory: Attempting to register factory for plugin cuDNN when one has already been registered\n",
            "2024-03-01 03:11:32.360135: E external/local_xla/xla/stream_executor/cuda/cuda_fft.cc:607] Unable to register cuFFT factory: Attempting to register factory for plugin cuFFT when one has already been registered\n",
            "2024-03-01 03:11:32.362272: E external/local_xla/xla/stream_executor/cuda/cuda_blas.cc:1515] Unable to register cuBLAS factory: Attempting to register factory for plugin cuBLAS when one has already been registered\n",
            "2024-03-01 03:11:34.435755: W tensorflow/compiler/tf2tensorrt/utils/py_utils.cc:38] TF-TRT Warning: Could not find TensorRT\n",
            "No NaNs in numerical features, skipping\n",
            "(32561, 9)\n",
            "Time: 1047.0041568279266\n",
            "Saving sampled data to /content/tabsyn/syn_data/adult_gen.text\n"
          ]
        }
      ]
    },
    {
      "cell_type": "code",
      "source": [
        "!ls"
      ],
      "metadata": {
        "colab": {
          "base_uri": "https://localhost:8080/"
        },
        "id": "yEkp-BNW6Sz0",
        "outputId": "8b0ca4fc-a3a3-4b89-97af-c6f19072f865"
      },
      "execution_count": 45,
      "outputs": [
        {
          "output_type": "stream",
          "name": "stdout",
          "text": [
            "baselines\t     eval\tNOTICE\t\t    src        utils_train.py\n",
            "CODE_OF_CONDUCT.md   full_path\tprocess_dataset.py  syn_data\n",
            "CONTRIBUTING.md      images\t__pycache__\t    synthetic\n",
            "data\t\t     LICENSE\tREADME.md\t    tabsyn\n",
            "download_dataset.py  main.py\trequirements.txt    utils.py\n"
          ]
        }
      ]
    }
  ]
}